{
 "cells": [
  {
   "cell_type": "markdown",
   "id": "d3bfc191-8885-42ee-b0a0-bbab867c6f9f",
   "metadata": {
    "tags": []
   },
   "source": [
    "# Lab | Flow Control"
   ]
  },
  {
   "cell_type": "markdown",
   "id": "3851fcd1-cf98-4653-9c89-e003b7ec9400",
   "metadata": {},
   "source": [
    "## Exercise: Managing Customer Orders Optimized\n",
    "\n",
    "In the last lab, you were starting an online store that sells various products. To ensure smooth operations, you developed a program that manages customer orders and inventory.\n",
    "\n",
    "You did so without using flow control. Let's go a step further and improve this code.\n",
    "\n",
    "Follow the steps below to complete the exercise:\n",
    "\n",
    "1. Look at your code from the lab data structures, and improve repeated code with loops.\n",
    "\n",
    "2. Instead of asking the user to input the name of three products that a customer wants to order, do the following:\n",
    "    \n",
    "    a. Prompt the user to enter the name of a product that a customer wants to order.\n",
    "    \n",
    "    b. Add the product name to the \"customer_orders\" set.\n",
    "    \n",
    "    c. Ask the user if they want to add another product (yes/no).\n",
    "    \n",
    "    d. Continue the loop until the user does not want to add another product.\n",
    "\n",
    "3. Instead of updating the inventory by subtracting 1 from the quantity of each product, only do it for  the products that were ordered (those in \"customer_orders\")."
   ]
  },
  {
   "cell_type": "code",
   "execution_count": 40,
   "id": "39432df1",
   "metadata": {},
   "outputs": [],
   "source": [
    "products= [\"t-shirt\", \"mug\", \"hat\", \"book\", \"keychain\"]\n",
    "inventory= {}\n",
    "customer_orders = set ()"
   ]
  },
  {
   "cell_type": "code",
   "execution_count": 41,
   "id": "e0575a62",
   "metadata": {},
   "outputs": [
    {
     "name": "stdout",
     "output_type": "stream",
     "text": [
      "{'t-shirt': 1, 'mug': 2, 'hat': 3, 'book': 4, 'keychain': 5}\n"
     ]
    }
   ],
   "source": [
    "#1. Look at your code from the lab data structures, and improve repeated code with loops.\n",
    "for product in products:\n",
    "    quantity = int(input(f\"Enter the quantity of {product} available:\"))\n",
    "    inventory[product] = quantity\n",
    "print (inventory)\n"
   ]
  },
  {
   "cell_type": "code",
   "execution_count": 42,
   "id": "eba858db",
   "metadata": {},
   "outputs": [
    {
     "name": "stdout",
     "output_type": "stream",
     "text": [
      "Invalid product. You need to choose between ['t-shirt', 'mug', 'hat', 'book', 'keychain'].\n"
     ]
    }
   ],
   "source": [
    "#2. Instead of asking the user to input the name of three products that a customer wants to order, do the following:\n",
    "#a. Prompt the user to enter the name of a product that a customer wants to order.\n",
    " \n",
    "order = input (\"Choose the product you want to order:\") \n",
    "while order not in products:\n",
    "    print (f\"Invalid product. You need to choose between {products}.\")\n",
    "    order = input (\"Choose the product you want to order:\")  \n",
    "  \n"
   ]
  },
  {
   "cell_type": "code",
   "execution_count": 43,
   "id": "4d79ef91",
   "metadata": {},
   "outputs": [
    {
     "name": "stdout",
     "output_type": "stream",
     "text": [
      "{'mug'}\n"
     ]
    }
   ],
   "source": [
    "#2. Instead of asking the user to input the name of three products that a customer wants to order, do the following:\n",
    "#b. Add the product name to the \"customer_orders\" set.\n",
    "    \n",
    "customer_orders.add (order)\n",
    "print (customer_orders)"
   ]
  },
  {
   "cell_type": "code",
   "execution_count": 44,
   "id": "ca23c957",
   "metadata": {},
   "outputs": [],
   "source": [
    "#2. Instead of asking the user to input the name of three products that a customer wants to order, do the following:\n",
    "#c. Ask the user if they want to add another product (yes/no).\n",
    "    \n",
    "answer= input (\"Would you like to order another product (yes/no):\")\n",
    "while answer == \"yes\":\n",
    "    order = input (\"Choose the product you want to order?\") \n",
    "    customer_orders.add (order)\n",
    "    answer= input (\"Would you like to order another product (yes/no):\")\n",
    "    \n",
    "     "
   ]
  },
  {
   "cell_type": "code",
   "execution_count": 45,
   "id": "b5aba96b",
   "metadata": {},
   "outputs": [],
   "source": [
    "#2. Instead of asking the user to input the name of three products that a customer wants to order, do the following:\n",
    "#d. Continue the loop until the user does not want to add another product."
   ]
  },
  {
   "cell_type": "code",
   "execution_count": 46,
   "id": "c88d2fe4",
   "metadata": {},
   "outputs": [
    {
     "name": "stdout",
     "output_type": "stream",
     "text": [
      "{'t-shirt': 1, 'mug': 1, 'hat': 2, 'book': 4, 'keychain': 5}\n"
     ]
    }
   ],
   "source": [
    "#3. Instead of updating the inventory by subtracting 1 from the quantity of each product, only do it for  the products that were ordered (those in \"customer_orders\").\n",
    "for item in customer_orders:\n",
    "    inventory[item] -= 1\n",
    "\n",
    "print (inventory)"
   ]
  }
 ],
 "metadata": {
  "kernelspec": {
   "display_name": "Python 3 (ipykernel)",
   "language": "python",
   "name": "python3"
  },
  "language_info": {
   "codemirror_mode": {
    "name": "ipython",
    "version": 3
   },
   "file_extension": ".py",
   "mimetype": "text/x-python",
   "name": "python",
   "nbconvert_exporter": "python",
   "pygments_lexer": "ipython3",
   "version": "3.12.3"
  }
 },
 "nbformat": 4,
 "nbformat_minor": 5
}
